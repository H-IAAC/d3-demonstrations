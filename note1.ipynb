{
 "cells": [
  {
   "attachments": {},
   "cell_type": "markdown",
   "id": "3b9f8c56-ae1f-4841-addd-669b21f24198",
   "metadata": {},
   "source": [
    "Este notebook foi baseado [neste](https://github.com/PyGoogle/PyD3/blob/master/iris_scatterplot.ipynb) repositório."
   ]
  },
  {
   "attachments": {},
   "cell_type": "markdown",
   "id": "9377184e-0a5a-4570-bd6d-36f9bc774b86",
   "metadata": {},
   "source": [
    "# 0. Imports"
   ]
  },
  {
   "cell_type": "code",
   "execution_count": null,
   "id": "f3b738fd-dcb4-41e1-aaf1-6d3657d0ea51",
   "metadata": {},
   "outputs": [],
   "source": [
    "from IPython.core.display import HTML\n",
    "from string import Template\n",
    "import pandas as pd\n",
    "import json, random\n",
    "import ipywidgets as widgets"
   ]
  },
  {
   "cell_type": "code",
   "execution_count": null,
   "id": "4a2d6a21-deac-4bcf-8fc1-a724f949eb81",
   "metadata": {},
   "outputs": [],
   "source": [
    "HTML('''\n",
    "<h1>Hello HIAAC!</h1>\n",
    "<h3>Essa lib manipula o DOM</h3>\n",
    "''')"
   ]
  },
  {
   "attachments": {},
   "cell_type": "markdown",
   "id": "9e12b130-f9c2-4c14-871c-2180bb1eface",
   "metadata": {},
   "source": [
    "A função `IPython.core.display.HTML` é a responsável por renderizar trechos de HTML no notebook e é a nossa ponte para utilizarmos o D3.js no jupyter."
   ]
  },
  {
   "cell_type": "code",
   "execution_count": null,
   "id": "00c69971-9cb7-4c13-b401-e51fcb8cd8c5",
   "metadata": {},
   "outputs": [],
   "source": [
    "HTML('<script src=\"https://d3js.org/d3.v7.min.js\"></script>')"
   ]
  },
  {
   "attachments": {},
   "cell_type": "markdown",
   "id": "5bfae534-0877-43a3-b191-e853fcea2b55",
   "metadata": {},
   "source": [
    "ps.: Ao tentar rodar este notebook no jupyter notebook este script não funcionou. Talvez este notebook não funcione dependendo do sistema em que ele roda. Estou utilizando jupiter lab no Google chrome, Windows e Anaconda para gerenciamento de pacotes."
   ]
  },
  {
   "attachments": {},
   "cell_type": "markdown",
   "id": "a7da97aa-fa3e-435b-98d3-7e741ae9fbfe",
   "metadata": {},
   "source": [
    "# 1. Carregar dados"
   ]
  },
  {
   "cell_type": "code",
   "execution_count": null,
   "id": "81bb7f8c-0ab8-498c-8359-a1e61b23c540",
   "metadata": {},
   "outputs": [],
   "source": [
    "filename = 'web3/data.tsv'\n",
    "iris = pd.read_csv(filename,sep=\"\\t\")\n",
    "iris.head()"
   ]
  },
  {
   "attachments": {},
   "cell_type": "markdown",
   "id": "f8d372c8-41f3-4c30-b603-226755a12d01",
   "metadata": {},
   "source": [
    "Os dados são obtidos de um arquivo .tsv e convertidos para dicionário num formato que pode ser aceito pelo JSON e apropriado para o scatterplot que desejamos criar."
   ]
  },
  {
   "cell_type": "code",
   "execution_count": null,
   "id": "7972c4a9-b2b0-42c1-abbd-5b47f05d770b",
   "metadata": {},
   "outputs": [],
   "source": [
    "iris_array_of_dicts = iris.to_dict(orient='records')\n",
    "iris_array_of_dicts[:5]"
   ]
  },
  {
   "attachments": {},
   "cell_type": "markdown",
   "id": "049df102-3958-4835-a604-213ec5ce4b1b",
   "metadata": {},
   "source": [
    "# 2. Script feito por string"
   ]
  },
  {
   "attachments": {},
   "cell_type": "markdown",
   "id": "c20380f1-664f-4e27-b804-f602287246cf",
   "metadata": {},
   "source": [
    "Abaixo foram criados templates baseados no explemplo `web3`:"
   ]
  },
  {
   "cell_type": "code",
   "execution_count": null,
   "id": "e892d5ff-c1e5-4012-a413-3a22a5fb0dff",
   "metadata": {},
   "outputs": [],
   "source": [
    "css_text = '''\n",
    ".axis path,\n",
    ".axis line {\n",
    "  fill: none;\n",
    "  stroke: #000;\n",
    "  shape-rendering: crispEdges;\n",
    "}\n",
    "\n",
    ".dot {\n",
    "  stroke: #000;\n",
    "}\n",
    "'''"
   ]
  },
  {
   "cell_type": "code",
   "execution_count": null,
   "id": "54d6c947-850c-48cb-8e5d-81ce0c5f19fc",
   "metadata": {},
   "outputs": [],
   "source": [
    "js_text_template = Template('''\n",
    "var margin = {top: 20, right: 20, bottom: 30, left: 40},\n",
    "// ****    width = 960 - margin.left - margin.right, ****\n",
    "// ****    height = 500 - margin.top - margin.bottom; ****\n",
    "    width = 720 - margin.left - margin.right,\n",
    "    height = 375 - margin.top - margin.bottom;\n",
    "\n",
    "var x = d3.scaleLinear().range([0, width]);\n",
    "\n",
    "var y = d3.scaleLinear().range([height, 0]);\n",
    "\n",
    "var color = d3.scaleOrdinal(d3.schemeCategory10);\n",
    "\n",
    "var xAxis = d3.axisBottom(x);\n",
    "\n",
    "var yAxis = d3.axisLeft(y);\n",
    "\n",
    "// **** var svg = d3.select(\"body\").append(\"svg\") ****\n",
    "var svg = d3.select(\"#$graphdiv\").append(\"svg\")\n",
    "    .attr(\"width\", width + margin.left + margin.right)\n",
    "    .attr(\"height\", height + margin.top + margin.bottom)\n",
    "  .append(\"g\")\n",
    "    .attr(\"transform\", \"translate(\" + margin.left + \",\" + margin.top + \")\");\n",
    "\n",
    "// **** d3.tsv(\"data.tsv\", function(error, data) { ****\n",
    "// ****  if (error) throw error; ****\n",
    "\n",
    "var data = $python_data ;\n",
    "\n",
    "  data.forEach(function(d) {\n",
    "    d.sepalLength = +d.sepalLength;\n",
    "    d.sepalWidth = +d.sepalWidth;\n",
    "  });\n",
    "\n",
    "  x.domain(d3.extent(data, function(d) { return d.sepalWidth; })).nice();\n",
    "  y.domain(d3.extent(data, function(d) { return d.sepalLength; })).nice();\n",
    "\n",
    "  svg.append(\"g\")\n",
    "      .attr(\"class\", \"x axis\")\n",
    "      .attr(\"transform\", \"translate(0,\" + height + \")\")\n",
    "      .call(xAxis)\n",
    "    .append(\"text\")\n",
    "      .attr(\"class\", \"label\")\n",
    "      .attr(\"x\", width)\n",
    "      .attr(\"y\", -6)\n",
    "      .style(\"text-anchor\", \"end\")\n",
    "      .text(\"Sepal Width (cm)\");\n",
    "\n",
    "  svg.append(\"g\")\n",
    "      .attr(\"class\", \"y axis\")\n",
    "      .call(yAxis)\n",
    "    .append(\"text\")\n",
    "      .attr(\"class\", \"label\")\n",
    "      .attr(\"transform\", \"rotate(-90)\")\n",
    "      .attr(\"y\", 6)\n",
    "      .attr(\"dy\", \".71em\")\n",
    "      .style(\"text-anchor\", \"end\")\n",
    "      .text(\"Sepal Length (cm)\")\n",
    "\n",
    "  svg.selectAll(\".dot\")\n",
    "      .data(data)\n",
    "    .enter().append(\"circle\")\n",
    "      .attr(\"class\", \"dot\")\n",
    "      .attr(\"r\", 3.5)\n",
    "      .attr(\"cx\", function(d) { return x(d.sepalWidth); })\n",
    "      .attr(\"cy\", function(d) { return y(d.sepalLength); })\n",
    "      .style(\"fill\", function(d) { return color(d.species); });\n",
    "\n",
    "  var legend = svg.selectAll(\".legend\")\n",
    "      .data(color.domain())\n",
    "    .enter().append(\"g\")\n",
    "      .attr(\"class\", \"legend\")\n",
    "      .attr(\"transform\", function(d, i) { return \"translate(0,\" + i * 20 + \")\"; });\n",
    "\n",
    "  legend.append(\"rect\")\n",
    "      .attr(\"x\", width - 18)\n",
    "      .attr(\"width\", 18)\n",
    "      .attr(\"height\", 18)\n",
    "      .style(\"fill\", color);\n",
    "\n",
    "  legend.append(\"text\")\n",
    "      .attr(\"x\", width - 24)\n",
    "      .attr(\"y\", 9)\n",
    "      .attr(\"dy\", \".35em\")\n",
    "      .style(\"text-anchor\", \"end\")\n",
    "      .text(function(d) { return d; });\n",
    "\n",
    "// **** }); ****\n",
    "\n",
    "''')"
   ]
  },
  {
   "attachments": {},
   "cell_type": "markdown",
   "id": "e29eeea5-14c6-4816-9e51-36f30b8201ef",
   "metadata": {},
   "source": [
    "Abaixo foi criado um template HTML com um elemento `div` onde o gráfico será renderizado. Os dados obtidos do arquivo são convertidos numa string formato JSON e inseritos diretamente no template HTML, fazendo, asssim, a conexão entre a execução em Python e Javascript."
   ]
  },
  {
   "cell_type": "code",
   "execution_count": null,
   "id": "137dfcf8-d0dc-4eab-9aab-94cf64d71bdf",
   "metadata": {},
   "outputs": [],
   "source": [
    "html_template = Template('''\n",
    "<style> $css_text </style>\n",
    "<div id=\"graph-div\"></div>\n",
    "<script> $js_text </script>\n",
    "''')\n",
    "js_text = js_text_template.substitute({'python_data': json.dumps(iris_array_of_dicts),\n",
    "                                       'graphdiv': 'graph-div'})\n",
    "HTML(html_template.substitute({'css_text': css_text, 'js_text': js_text}))"
   ]
  },
  {
   "attachments": {},
   "cell_type": "markdown",
   "id": "af421e75-fb55-4bfc-96ce-cb59fb91aab1",
   "metadata": {},
   "source": [
    "# 3. Script por arquivo externo"
   ]
  },
  {
   "attachments": {},
   "cell_type": "markdown",
   "id": "07a94c05-032b-40bd-8190-a07622b72a82",
   "metadata": {},
   "source": [
    "Aqui o script é gerado à partir do arquivo que se encontra no exemplo `web3`, aqui a ideia é gerar scripts à partir de outros scripts que já funcionam diretamente numa página web normal. Para funcionar foi necessário remover a palavra `export` da função."
   ]
  },
  {
   "cell_type": "code",
   "execution_count": null,
   "id": "74779304-aa0b-4e14-aa88-95280e02667a",
   "metadata": {},
   "outputs": [],
   "source": [
    "js_text = open(\"web3/scatterplot.js\", \"r\").read().replace('export ', '')\n",
    "css_text = open(\"web3/style.css\", \"r\").read()\n",
    "\n",
    "html_template = Template('''\n",
    "<style> $css_text </style>\n",
    "<div id=\"graph-div2\"></div>\n",
    "<script>\n",
    "$js_text\n",
    "\n",
    "scatterplot($python_data, \"#graph-div2\");\n",
    "</script>\n",
    "''')\n",
    "HTML(html_template.substitute({'css_text': css_text,\n",
    "                               'js_text': js_text,\n",
    "                               'python_data': json.dumps(iris_array_of_dicts)}))"
   ]
  },
  {
   "attachments": {},
   "cell_type": "markdown",
   "id": "9f620fc9-22d3-438f-b7e2-9bb2044a0788",
   "metadata": {},
   "source": [
    "# 4. Exemplo web4"
   ]
  },
  {
   "attachments": {},
   "cell_type": "markdown",
   "id": "312cec21-0142-4189-9867-5c612ad4f7ea",
   "metadata": {},
   "source": [
    "Vários exemplos de gráficos D3.js podem er encontrados neste [link](https://observablehq.com/@d3/gallery).\n",
    "Algumas adaptações no código são necessárias."
   ]
  },
  {
   "cell_type": "code",
   "execution_count": null,
   "id": "f81c64af-a384-4810-a1f4-6103d7d55af9",
   "metadata": {},
   "outputs": [],
   "source": [
    "json_file = open(\"web4/flare-2.json\")\n",
    "flare_dicts = json.load(json_file)\n",
    "js_text = open(\"web4/circle-packing.js\", \"r\").read().replace('export ', '')\n",
    "\n",
    "html_template = Template('''\n",
    "<div id=\"graph-div3\"></div>\n",
    "<script>\n",
    "$js_text\n",
    "\n",
    "ciclePack($python_data, \"#graph-div3\");\n",
    "</script>\n",
    "''')\n",
    "HTML(html_template.substitute({'js_text': js_text,\n",
    "                               'python_data': json.dumps(flare_dicts)}))"
   ]
  },
  {
   "attachments": {},
   "cell_type": "markdown",
   "id": "95e1bb6d-b7a1-45fc-87ee-f10f8267793d",
   "metadata": {},
   "source": [
    "# 5. Widgets do python"
   ]
  },
  {
   "attachments": {},
   "cell_type": "markdown",
   "id": "6702acbb-9efe-4c92-9722-871dbb16bc06",
   "metadata": {},
   "source": [
    "Aqui é uma tentativa de integrar as funcionalidades do `ipywidgets` com o D3.js.\n",
    "Os dados são selecionados utilizando os widgets e à cada mudança nos dados selecionados o HTML é renderizado novamente com os novos dados."
   ]
  },
  {
   "cell_type": "code",
   "execution_count": null,
   "id": "79347cdf-4969-4e69-b571-ade7cce1a5ed",
   "metadata": {},
   "outputs": [],
   "source": [
    "def generate_scatterplot(htmlElement:str, data):\n",
    "    print(htmlElement)\n",
    "    print(len(data))\n",
    "    js_text = open(\"web3/scatterplot.js\", \"r\").read().replace('export ', '')\n",
    "    css_text = open(\"web3/style.css\", \"r\").read()\n",
    "\n",
    "    html_template = Template('''\n",
    "    <style> $css_text </style>\n",
    "    <div id=\"$Graphdiv\"></div>\n",
    "    <script>\n",
    "    $js_text\n",
    "\n",
    "    scatterplot($python_data, \"#$Graphdiv\");\n",
    "    </script>\n",
    "    ''')\n",
    "    html_string = html_template.substitute({'Graphdiv': htmlElement,\n",
    "                                   'css_text': css_text,\n",
    "                                   'js_text': js_text,\n",
    "                                   'python_data': json.dumps(data)})\n",
    "    display(HTML(html_string))\n",
    "\n",
    "minPetalLength = iris['petalLength'].min()\n",
    "maxPetalLength = iris['petalLength'].max()\n",
    "minPetalWidth = iris['petalWidth'].min()\n",
    "maxPetalWidth = iris['petalWidth'].max()\n",
    "species = iris['species'].unique().tolist()\n",
    "species.append('all')\n",
    "\n",
    "def select_data(rangePetalLength=[minPetalLength, maxPetalLength],\n",
    "                rangePetalWidth=[minPetalWidth, maxPetalWidth],\n",
    "                species = 'all'):\n",
    "    df = iris[(iris['petalLength'] >= rangePetalLength[0]) & (iris['petalLength'] <= rangePetalLength[1])]\n",
    "    df = df[(df['petalWidth'] >= rangePetalWidth[0]) & (df['petalWidth'] <= rangePetalWidth[1])]\n",
    "    if(species != 'all'):\n",
    "        df = df[df['species'] == species]\n",
    "    data = df.to_dict(orient='records')\n",
    "    generate_scatterplot('graph-div4', data)"
   ]
  },
  {
   "cell_type": "code",
   "execution_count": null,
   "id": "e29ff726-f894-4ecd-9466-87e98d96c4c4",
   "metadata": {},
   "outputs": [],
   "source": [
    "widgets.interact(select_data,\n",
    "                 rangePetalLength=widgets.FloatRangeSlider(min=minPetalLength,max=maxPetalLength,step=0.1,\n",
    "                                                        value=(minPetalLength, maxPetalLength)),\n",
    "                 rangePetalWidth=widgets.FloatRangeSlider(min=minPetalWidth,max=maxPetalWidth,step=0.1),\n",
    "                                                        value=(minPetalWidth, maxPetalWidth),\n",
    "                 species=species)"
   ]
  },
  {
   "attachments": {},
   "cell_type": "markdown",
   "id": "1be9bb25-e00c-44bf-9aa3-baded3474c92",
   "metadata": {},
   "source": [
    "# 6. Widgets do Javascript"
   ]
  },
  {
   "attachments": {},
   "cell_type": "markdown",
   "id": "842e76ff-ab55-4419-9a22-b35669e941cb",
   "metadata": {},
   "source": [
    "Aqui é um exemplo de como criar widgets utilizando as ferramentas do D3.js e Javascript. O mesmo exemplo também se encontra no `web5`. Aparentemente a animação por este método é mais suave do que utilizando widgets do Python."
   ]
  },
  {
   "cell_type": "code",
   "execution_count": null,
   "id": "6e224c10-c3e2-4986-8ade-fee3180eb1aa",
   "metadata": {},
   "outputs": [],
   "source": [
    "css_text = open(\"web3/style.css\", \"r\").read()\n",
    "\n",
    "html_template = Template('''\n",
    "<style> $css_text </style>\n",
    "<div>Petal Length Slider</div>\n",
    "<input type=\"range\" id=\"petal-length-slider\" name=\"petal-length-slider\">\n",
    "<div id=\"graph-div5\"></div>\n",
    "<script type=\"module\">\n",
    "$js_text\n",
    "function updatePlot(values) {\n",
    "  d3.select(\"#graph-div5\").selectAll('*').remove()\n",
    "  scatterplot(values, \"#graph-div5\");\n",
    "}\n",
    "\n",
    "var data = $python_data;\n",
    "var min = d3.min(data, (d) => d.petalLength);\n",
    "var max = d3.max(data, (d) => d.petalLength);\n",
    "var slider = d3.select(\"#petal-length-slider\");\n",
    "\n",
    "slider.attr(\"min\", min).attr(\"max\", max).attr(\"step\", 0.1).attr(\"value\", max);\n",
    "slider.on(\"change\", (d) => {\n",
    "  var values = data.filter(l => l.petalLength <= d.target.value)\n",
    "  updatePlot(values);\n",
    "})\n",
    "\n",
    "scatterplot($python_data, \"#graph-div5\");\n",
    "</script>\n",
    "''')\n",
    "HTML(html_template.substitute({'css_text': css_text,\n",
    "                               'js_text': js_text,\n",
    "                               'python_data': json.dumps(iris_array_of_dicts)}))"
   ]
  },
  {
   "attachments": {},
   "cell_type": "markdown",
   "id": "ea8d19a1-468e-4f04-a657-f0cfe9cb7ecd",
   "metadata": {},
   "source": [
    "# 7. Ipyd3"
   ]
  },
  {
   "attachments": {},
   "cell_type": "markdown",
   "id": "b54742ab-9062-40b8-935c-63f3f6e174b6",
   "metadata": {},
   "source": [
    "Ao pesquisar por bibliotecas que integram o D3.js foi encontrado o ipyd3, porém, esta biblioteca não tem muitos recursos além de plotar gráficos de nós e de árvore.\n",
    "\n",
    "Quando atualizei as libs ele parou de funcionar, não vale a pena."
   ]
  },
  {
   "cell_type": "code",
   "execution_count": null,
   "id": "35e97310-4ed8-4178-bcbe-68f41cb22842",
   "metadata": {},
   "outputs": [],
   "source": [
    " import ipyd3"
   ]
  },
  {
   "cell_type": "code",
   "execution_count": null,
   "id": "cfcd0efa-3741-4135-a0c2-7a120d886b41",
   "metadata": {},
   "outputs": [],
   "source": [
    "graph = {\"nodes\":\n",
    "            [\n",
    "                {\"id\":\"node11\", \"layer\":\"layer1\", \"group\":\"group1\"},\n",
    "                {\"id\":\"node1\", \"layer\":\"layer1\", \"group\":\"group1\" },\n",
    "                {\"id\":\"node2\", \"layer\":\"layer1\", \"group\":\"group1\" },\n",
    "                {\"id\":\"node5\", \"layer\":\"layer1\" },\n",
    "                {\"id\":\"node4\", \"layer\":\"layer1\" },\n",
    "                {\"id\":\"node3\", \"layer\":\"layer1\" },\n",
    "                {\"id\":\"node6\", \"layer\":\"layer1\" },\n",
    "                {\"id\":\"node7\", \"layer\":\"layer1\" },\n",
    "                {\"id\":\"node8\", \"layer\":\"layer1\", \"group\":\"group2\"},\n",
    "                {\"id\":\"node9\", \"layer\":\"layer1\", \"group\":\"group2\"},\n",
    "                {\"id\":\"node10\", \"layer\":\"layer1\",\"group\":\"group2\"}\n",
    "            ],\n",
    "         \"links\":\n",
    "             [\n",
    "                 {\n",
    "                     \"source\":\"node1\",\n",
    "                     \"target\":\"node2\",\n",
    "                     \"layer\":\"layer1-layer1\"\n",
    "                 },\n",
    "                  {\n",
    "                     \"source\":\"node11\",\n",
    "                     \"target\":\"node2\",\n",
    "                     \"layer\":\"layer1-layer1\"\n",
    "                 },\n",
    "                 {\n",
    "                     \"source\":\"node1\",\n",
    "                     \"target\":\"node3\",\n",
    "                     \"layer\":\"layer1-layer1\"\n",
    "                 },\n",
    "                 {\n",
    "                     \"source\":\"node1\",\n",
    "                     \"target\":\"node4\",\n",
    "                     \"layer\":\"layer1-layer1\"\n",
    "                 },\n",
    "                 {\n",
    "                     \"source\":\"node1\",\n",
    "                     \"target\":\"node5\",\n",
    "                     \"layer\":\"layer1-layer1\"\n",
    "                 },\n",
    "                 {\n",
    "                     \"source\":\"node5\",\n",
    "                     \"target\":\"node6\",\n",
    "                     \"layer\":\"layer1-layer1\"\n",
    "                 },\n",
    "                 {\n",
    "                     \"source\":\"node4\",\n",
    "                     \"target\":\"node7\",\n",
    "                     \"layer\":\"layer1-layer1\"\n",
    "                 },\n",
    "                 {\n",
    "                     \"source\":\"node3\",\n",
    "                     \"target\":\"node8\",\n",
    "                     \"layer\":\"layer1-layer1\"\n",
    "                 },\n",
    "                 {\n",
    "                     \"source\":\"node2\",\n",
    "                     \"target\":\"node9\",\n",
    "                     \"layer\":\"layer1-layer1\"\n",
    "                 },\n",
    "                 {\n",
    "                     \"source\":\"node9\",\n",
    "                     \"target\":\"node10\",\n",
    "                     \"layer\":\"layer1-layer1\"\n",
    "                 }\n",
    "             ]\n",
    "        }\n",
    "ipyd3.ForceDirectedGraph(graph = graph, width=900)"
   ]
  },
  {
   "cell_type": "code",
   "execution_count": null,
   "id": "6b9c6379-2162-4890-a853-64cd6509cbf1",
   "metadata": {},
   "outputs": [],
   "source": [
    "data = {\n",
    "  \"name\": \"flare\",\n",
    "  \"children\": [\n",
    "   {\n",
    "    \"name\": \"analytics\",\n",
    "    \"children\": [\n",
    "     {\n",
    "      \"name\": \"cluster\",\n",
    "      \"children\": [\n",
    "       {\"name\": \"AgglomerativeCluster\", \"value\": 3938},\n",
    "       {\"name\": \"CommunityStructure\", \"value\": 3812},\n",
    "       {\"name\": \"HierarchicalCluster\", \"value\": 6714},\n",
    "       {\"name\": \"MergeEdge\", \"value\": 743}\n",
    "      ]\n",
    "     },\n",
    "     {\n",
    "      \"name\": \"graph\",\n",
    "      \"children\": [\n",
    "       {\"name\": \"BetweennessCentrality\", \"value\": 3534},\n",
    "       {\"name\": \"LinkDistance\", \"value\": 5731},\n",
    "       {\"name\": \"MaxFlowMinCut\", \"value\": 7840},\n",
    "       {\"name\": \"ShortestPaths\", \"value\": 5914},\n",
    "       {\"name\": \"SpanningTree\", \"value\": 3416}\n",
    "      ]\n",
    "     },\n",
    "     {\n",
    "      \"name\": \"optimization\",\n",
    "      \"children\": [\n",
    "       {\"name\": \"AspectRatioBanker\", \"value\": 7074}\n",
    "      ]\n",
    "     }\n",
    "    ]\n",
    "   }\n",
    "  ]\n",
    " }"
   ]
  },
  {
   "cell_type": "code",
   "execution_count": null,
   "id": "3b20b8be-c7f4-4d24-997a-2fe2a418f9bd",
   "metadata": {},
   "outputs": [],
   "source": [
    " hg = ipyd3.HierarchicalGraph(data=data)\n",
    "\n",
    "hg"
   ]
  },
  {
   "attachments": {},
   "cell_type": "markdown",
   "id": "cf8f7b72-d61d-442f-86e6-1e691b56696d",
   "metadata": {},
   "source": [
    "# 8. Plotly"
   ]
  },
  {
   "attachments": {},
   "cell_type": "markdown",
   "id": "258b2370-117a-463c-8bd4-acb476d09d24",
   "metadata": {},
   "source": [
    "Plotly é uma biblioteca para geração de gráficos que utiliza o D3.js como base. Vários exemplos de gráficos podem ser encontrados [aqui](https://plotly.com/python/)."
   ]
  },
  {
   "cell_type": "code",
   "execution_count": null,
   "id": "07de1c7a-d2bc-4556-9c1a-9e5159d59af3",
   "metadata": {},
   "outputs": [],
   "source": [
    "import plotly.express as px \n",
    "  \n",
    "fig = px.scatter(iris, x=\"sepalWidth\", y=\"sepalLength\", color=\"species\",\n",
    "                 size='petalLength', hover_data=['petalWidth'])\n",
    "fig.show()"
   ]
  },
  {
   "attachments": {},
   "cell_type": "markdown",
   "id": "a1723fed-a935-475a-a45c-f0d36d64262f",
   "metadata": {},
   "source": [
    "# 9. Dash e Plotly"
   ]
  },
  {
   "attachments": {},
   "cell_type": "markdown",
   "id": "8ba57e60-03a3-4d6e-916b-bd4f555d9348",
   "metadata": {
    "tags": []
   },
   "source": [
    "Dash é um framework para visualização de interfaces que gera páginas web e elementos UI utilizando ferramentas em Python. Neste exemplo é demonstrado como um elemento de slider interage com o gráfico."
   ]
  },
  {
   "cell_type": "code",
   "execution_count": null,
   "id": "66be2398-d365-4dc6-bb26-a423d5d60b0e",
   "metadata": {},
   "outputs": [],
   "source": [
    "from dash import Dash, dcc, html, Input, Output\n",
    "import plotly.express as px\n",
    "from jupyter_dash import JupyterDash\n",
    "\n",
    "app = JupyterDash(__name__)\n",
    "\n",
    "\n",
    "app.layout = html.Div([\n",
    "    html.H4('Interactive scatter plot with Iris dataset'),\n",
    "    dcc.Graph(id=\"scatter-plot\"),\n",
    "    html.P(\"Filter by petal width:\"),\n",
    "    dcc.RangeSlider(\n",
    "        id='range-slider',\n",
    "        min=0, max=2.5, step=0.1,\n",
    "        marks={0: '0', 2.5: '2.5'},\n",
    "        value=[0.5, 2]\n",
    "    ),\n",
    "])\n",
    "\n",
    "\n",
    "@app.callback(\n",
    "    Output(\"scatter-plot\", \"figure\"), \n",
    "    Input(\"range-slider\", \"value\"))\n",
    "def update_bar_chart(slider_range):\n",
    "    low, high = slider_range\n",
    "    mask = (iris['petalWidth'] > low) & (iris['petalWidth'] < high)\n",
    "    fig = px.scatter(\n",
    "        iris[mask], x=\"sepalWidth\", y=\"sepalLength\", \n",
    "        color=\"species\", size='petalLength', \n",
    "        hover_data=['petalWidth'])\n",
    "    return fig\n",
    "\n",
    "\n",
    "app.run_server(mode=\"inline\")"
   ]
  },
  {
   "attachments": {},
   "cell_type": "markdown",
   "id": "bedecea0-9cd4-4905-96c1-9510dca31380",
   "metadata": {
    "tags": []
   },
   "source": [
    "# 10. Plotly e ipywidgets"
   ]
  },
  {
   "attachments": {},
   "cell_type": "markdown",
   "id": "214a9114-453f-466f-8bdc-0e445fea175b",
   "metadata": {},
   "source": [
    "Apesar do Dash já oferecer seu widgets, é possivel utilizar ipywidgets com o Plotly."
   ]
  },
  {
   "cell_type": "code",
   "execution_count": null,
   "id": "f4e64c2c-fbbc-40a6-be23-cde60bcc0b08",
   "metadata": {
    "tags": []
   },
   "outputs": [],
   "source": [
    "fig = px.scatter(iris, x=\"sepalWidth\", y=\"sepalLength\", color=\"species\",\n",
    "                 size='petalLength', hover_data=['petalWidth'])\n",
    "\n",
    "rangePetalWidth = widgets.FloatRangeSlider(min=0,max=2.5,step=0.1)\n",
    "def response(change):\n",
    "    mask = (iris['petalWidth'] >= rangePetalWidth.value[0]) & (iris['petalWidth'] <= rangePetalWidth.value[1])\n",
    "    df = iris[mask]\n",
    "    fig = px.scatter(df, x=\"sepalWidth\", y=\"sepalLength\", color=\"species\",\n",
    "                 size='petalLength', hover_data=['petalWidth'])\n",
    "    fig.show()\n",
    "\n",
    "out = widgets.interactive_output(response, {'change':rangePetalWidth})\n",
    "display(rangePetalWidth, out)    "
   ]
  },
  {
   "attachments": {},
   "cell_type": "markdown",
   "id": "91f96348-b6db-428a-a6a4-cac5ce895875",
   "metadata": {},
   "source": [
    "Outro exemplo de como fazer essa interação pode ser encontrado [aqui](https://plotly.com/python/figurewidget-app/)."
   ]
  },
  {
   "attachments": {},
   "cell_type": "markdown",
   "id": "c1751cbd-15cc-49e7-827d-2b2cd80f221c",
   "metadata": {},
   "source": [
    "# 11. Dash e D3"
   ]
  },
  {
   "attachments": {},
   "cell_type": "markdown",
   "id": "ce099c1f-148b-439a-b5d2-2263d69214e6",
   "metadata": {
    "tags": []
   },
   "source": [
    "O Dash permite o encapsulamento do D3.js com React podendo criar instâncias de gráficos customizados. Instruções se encontram neste [link](https://dash.plotly.com/d3-react-components)."
   ]
  }
 ],
 "metadata": {
  "kernelspec": {
   "display_name": "Python 3 (ipykernel)",
   "language": "python",
   "name": "python3"
  },
  "language_info": {
   "codemirror_mode": {
    "name": "ipython",
    "version": 3
   },
   "file_extension": ".py",
   "mimetype": "text/x-python",
   "name": "python",
   "nbconvert_exporter": "python",
   "pygments_lexer": "ipython3",
   "version": "3.8.10"
  }
 },
 "nbformat": 4,
 "nbformat_minor": 5
}
