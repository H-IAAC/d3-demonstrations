{
 "cells": [
  {
   "cell_type": "code",
   "execution_count": null,
   "id": "6846170f-f5e2-475a-9315-9763902819f0",
   "metadata": {},
   "outputs": [],
   "source": [
    "import os\n",
    "try:\n",
    "    dir_changed\n",
    "except NameError as e:\n",
    "    os.chdir('./dash_interface/')\n",
    "    dir_changed = True\n",
    "from dash import dcc, html, Input, Output\n",
    "from jupyter_dash import JupyterDash\n",
    "%pwd"
   ]
  },
  {
   "cell_type": "code",
   "execution_count": null,
   "id": "06686f38-ddba-4cb1-92dc-2f94dc8cdd07",
   "metadata": {},
   "outputs": [],
   "source": [
    "def test(n_clicks):\n",
    "    return 'test2: ' + str(n_clicks)"
   ]
  },
  {
   "cell_type": "code",
   "execution_count": null,
   "id": "55546394-bf94-4651-80b1-e26a71eaf149",
   "metadata": {},
   "outputs": [],
   "source": [
    "app = JupyterDash(__name__)\n",
    "\n",
    "app.layout = html.Div([\n",
    "    html.Div(\n",
    "        children='teste',\n",
    "        id='mydiv'\n",
    "    ),\n",
    "    html.Button(\n",
    "        children='button',\n",
    "        id='mybutton',\n",
    "        n_clicks=0\n",
    "    )\n",
    "])\n",
    "\n",
    "def callbackFunc(n_clicks):\n",
    "    print(test(n_clicks))\n",
    "    return test(n_clicks)  \n",
    "    \n",
    "app.callback(Output('mydiv', 'children'), Input('mybutton', 'n_clicks'))(callbackFunc)\n",
    "\n",
    "if __name__ == '__main__':\n",
    "    app.run(mode='jupyterlab')"
   ]
  },
  {
   "cell_type": "code",
   "execution_count": null,
   "id": "7c278f42-8c52-46fc-9556-2c2825dc16a2",
   "metadata": {},
   "outputs": [],
   "source": [
    "import pandas as pd\n",
    "from my_dash_components import LinearplotComponent\n",
    "from sklearn.inspection import partial_dependence\n",
    "from sklearn.ensemble import RandomForestRegressor\n",
    "\n",
    "path = '../data/bike.csv'\n",
    "df = pd.read_csv(path)\n",
    "df.head()"
   ]
  },
  {
   "cell_type": "code",
   "execution_count": null,
   "id": "dc1b4e89-03fa-4639-be98-ff3b87b66038",
   "metadata": {},
   "outputs": [],
   "source": [
    "num_features = ['temp', 'hum', 'windspeed']\n",
    "X = df[num_features]\n",
    "y = df['cnt']\n",
    "feature = 0"
   ]
  },
  {
   "cell_type": "code",
   "execution_count": null,
   "id": "e9f83f4b-ffa1-45d8-9704-62b4b72ef038",
   "metadata": {},
   "outputs": [],
   "source": [
    "def get_feature(feature):\n",
    "    clf = RandomForestRegressor(n_estimators=10).fit(X, y)\n",
    "    pd_results = partial_dependence(\n",
    "    clf, X, features=feature, kind=\"average\")\n",
    "    pdp_df = pd.DataFrame({'grid_values': pd_results['grid_values'][0], 'average': pd_results['average'][0]})\n",
    "    pdp_dict = pdp_df.to_dict(orient='records')\n",
    "    return pdp_dict"
   ]
  },
  {
   "cell_type": "code",
   "execution_count": null,
   "id": "011210c9-10a3-47b3-878e-14d806851d5a",
   "metadata": {},
   "outputs": [],
   "source": [
    "def selected_feature():\n",
    "    return get_feature(0)"
   ]
  },
  {
   "cell_type": "code",
   "execution_count": null,
   "id": "05c87930-8220-4ada-a4db-35b674fc23b7",
   "metadata": {},
   "outputs": [],
   "source": [
    "app = JupyterDash(__name__)\n",
    "\n",
    "app.layout = html.Div([\n",
    "    LinearplotComponent(\n",
    "        id='linear',\n",
    "        data=selected_feature(),\n",
    "        x_axis='grid_values',\n",
    "        y_axis='average'\n",
    "    ),\n",
    "    html.Button(\n",
    "        children='atualizar',\n",
    "        id='mybutton',\n",
    "        n_clicks=0\n",
    "    )\n",
    "])\n",
    "\n",
    "def callbackFunc(value):\n",
    "    return selected_feature()\n",
    "    \n",
    "app.callback(Output('linear', 'data'), Input('mybutton', 'n_clicks'))(callbackFunc)\n",
    "\n",
    "if __name__ == '__main__':\n",
    "    app.run(mode=\"jupyterlab\")"
   ]
  },
  {
   "cell_type": "code",
   "execution_count": null,
   "id": "d23ad186-ad19-4acf-a288-6b4333985bc4",
   "metadata": {},
   "outputs": [],
   "source": [
    "def selected_feature():\n",
    "    return get_feature(1)"
   ]
  }
 ],
 "metadata": {
  "kernelspec": {
   "display_name": "Python 3 (ipykernel)",
   "language": "python",
   "name": "python3"
  },
  "language_info": {
   "codemirror_mode": {
    "name": "ipython",
    "version": 3
   },
   "file_extension": ".py",
   "mimetype": "text/x-python",
   "name": "python",
   "nbconvert_exporter": "python",
   "pygments_lexer": "ipython3",
   "version": "3.8.10"
  }
 },
 "nbformat": 4,
 "nbformat_minor": 5
}
