{
 "cells": [
  {
   "cell_type": "markdown",
   "id": "f6f2812d-cdce-4f63-abe3-a7225d611528",
   "metadata": {},
   "source": [
    "# 0. Imports"
   ]
  },
  {
   "cell_type": "code",
   "execution_count": null,
   "id": "c4878e46-1f3d-4f21-b94b-61370dd5175c",
   "metadata": {},
   "outputs": [],
   "source": [
    "import os\n",
    "os.chdir('./dash_interface/')"
   ]
  },
  {
   "cell_type": "code",
   "execution_count": null,
   "id": "e2e6d7dc-f565-4674-a796-0529f3d7aa89",
   "metadata": {},
   "outputs": [],
   "source": [
    "from my_dash_components import ScatterplotComponent\n",
    "from dash import dcc, html, Input, Output\n",
    "import pandas as pd\n",
    "from jupyter_dash import JupyterDash"
   ]
  },
  {
   "cell_type": "code",
   "execution_count": null,
   "id": "117f159b-ada3-4d23-8441-3b5fd06a57f8",
   "metadata": {},
   "outputs": [],
   "source": [
    "hostId = 0\n",
    "def getHost():\n",
    "    global hostId\n",
    "    hostId += 1\n",
    "    return '127.0.0.' + str(hostId)"
   ]
  },
  {
   "cell_type": "markdown",
   "id": "c0612fb8-14a4-41a9-8c8a-f7a11b44077d",
   "metadata": {},
   "source": [
    "# 1. Gráfico customizado com widget do dash "
   ]
  },
  {
   "cell_type": "code",
   "execution_count": null,
   "id": "85b93210-4283-4b66-8772-e614c2062a28",
   "metadata": {},
   "outputs": [],
   "source": [
    "filename =  '../web3/data.tsv'\n",
    "iris = pd.read_csv(filename,sep=\"\\t\")\n",
    "iris_array_of_dicts = iris.to_dict(orient='records')\n",
    "\n",
    "app = JupyterDash(__name__)\n",
    "\n",
    "app.layout = html.Div([\n",
    "    ScatterplotComponent(\n",
    "        id='input',\n",
    "        data=iris_array_of_dicts\n",
    "    ),\n",
    "    dcc.RangeSlider(\n",
    "        id='range-slider',\n",
    "        min=0, max=2.5, step=0.1,\n",
    "        marks={0: '0', 2.5: '2.5'},\n",
    "        value=[0.5, 2]\n",
    "    ),\n",
    "])\n",
    "\n",
    "@app.callback(\n",
    "    Output(\"input\", \"data\"), \n",
    "    Input(\"range-slider\", \"value\"))\n",
    "def update_bar_chart(value):\n",
    "    low, high = value\n",
    "    mask = (iris['petalWidth'] > low) & (iris['petalWidth'] < high)\n",
    "    res = iris[mask].to_dict(orient='records')\n",
    "    return res\n",
    "\n",
    "if __name__ == '__main__':\n",
    "    app.run_server(mode=\"jupyterlab\", host=getHost())\n"
   ]
  }
 ],
 "metadata": {
  "kernelspec": {
   "display_name": "Python 3 (ipykernel)",
   "language": "python",
   "name": "python3"
  },
  "language_info": {
   "codemirror_mode": {
    "name": "ipython",
    "version": 3
   },
   "file_extension": ".py",
   "mimetype": "text/x-python",
   "name": "python",
   "nbconvert_exporter": "python",
   "pygments_lexer": "ipython3",
   "version": "3.8.10"
  }
 },
 "nbformat": 4,
 "nbformat_minor": 5
}
