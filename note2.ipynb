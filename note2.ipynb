{
 "cells": [
  {
   "cell_type": "markdown",
   "id": "f6f2812d-cdce-4f63-abe3-a7225d611528",
   "metadata": {},
   "source": [
    "# 0. Imports"
   ]
  },
  {
   "cell_type": "code",
   "execution_count": null,
   "id": "e2e6d7dc-f565-4674-a796-0529f3d7aa89",
   "metadata": {},
   "outputs": [],
   "source": [
    "from my_dash_components import ScatterplotComponent, LinearplotComponent, HistogramplotComponent, LinearHistComponent\n",
    "from dash import dcc, html, Input, Output, Dash\n",
    "import pandas as pd"
   ]
  },
  {
   "cell_type": "markdown",
   "id": "c0612fb8-14a4-41a9-8c8a-f7a11b44077d",
   "metadata": {},
   "source": [
    "# 1. Gráfico customizado com widget do dash "
   ]
  },
  {
   "cell_type": "code",
   "execution_count": null,
   "id": "85b93210-4283-4b66-8772-e614c2062a28",
   "metadata": {},
   "outputs": [],
   "source": [
    "filename =  './web3/data.tsv'\n",
    "iris = pd.read_csv(filename,sep=\"\\t\")\n",
    "iris_array_of_dicts = iris.to_dict(orient='records')\n",
    "\n",
    "app = Dash(__name__)\n",
    "\n",
    "app.layout = html.Div([\n",
    "    ScatterplotComponent(\n",
    "        id='input',\n",
    "        data=iris_array_of_dicts\n",
    "    ),\n",
    "    dcc.RangeSlider(\n",
    "        id='range-slider',\n",
    "        min=0, max=2.5, step=0.1,\n",
    "        marks={0: '0', 2.5: '2.5'},\n",
    "        value=[0.5, 2]\n",
    "    ),\n",
    "])\n",
    "\n",
    "@app.callback(\n",
    "    Output(\"input\", \"data\"), \n",
    "    Input(\"range-slider\", \"value\"))\n",
    "def update_bar_chart(value):\n",
    "    low, high = value\n",
    "    mask = (iris['petalWidth'] > low) & (iris['petalWidth'] < high)\n",
    "    res = iris[mask].to_dict(orient='records')\n",
    "    return res\n",
    "\n",
    "if __name__ == '__main__':\n",
    "    app.run(mode=\"jupyterlab\")\n"
   ]
  },
  {
   "cell_type": "markdown",
   "id": "be4022d4-663d-40a7-8f8b-77cce9e2f389",
   "metadata": {},
   "source": [
    "# 2. Pdp com histograma"
   ]
  },
  {
   "cell_type": "code",
   "execution_count": null,
   "id": "d1356290-e77b-4ade-8580-2dc684d415d1",
   "metadata": {},
   "outputs": [],
   "source": [
    "path = './data/bike.csv'\n",
    "df = pd.read_csv(path)\n",
    "df.head()"
   ]
  },
  {
   "cell_type": "code",
   "execution_count": null,
   "id": "dd30ec4f-234a-41b6-98d6-6161bd0c4d61",
   "metadata": {},
   "outputs": [],
   "source": [
    "num_features = ['temp', 'hum', 'windspeed']\n",
    "X = df[num_features]\n",
    "y = df['cnt']\n",
    "feature = 0"
   ]
  },
  {
   "cell_type": "code",
   "execution_count": null,
   "id": "29638e98-94d9-4973-9c1a-b7d0647298b4",
   "metadata": {},
   "outputs": [],
   "source": [
    "import numpy as np\n",
    "import matplotlib.pyplot as plt\n",
    "from sklearn.inspection import PartialDependenceDisplay\n",
    "from sklearn.inspection import partial_dependence\n",
    "from sklearn.ensemble import RandomForestRegressor\n",
    "\n",
    "clf = RandomForestRegressor(n_estimators=10).fit(X, y)\n",
    "features, feature_names = [(0,)], [f\"Features #{i}\" for i in range(X.shape[1])]\n",
    "deciles = {0: np.linspace(0, 100, num=5)}\n",
    "pd_results = partial_dependence(\n",
    "    clf, X, features=feature, kind=\"average\")\n",
    "display = PartialDependenceDisplay(\n",
    "    [pd_results], features=features, feature_names=feature_names,\n",
    "    target_idx=0, deciles=deciles\n",
    ")\n",
    "display.plot()\n",
    "\n",
    "plt.show()"
   ]
  },
  {
   "cell_type": "code",
   "execution_count": null,
   "id": "7f0eb8c0-90ec-4ba5-9a13-60cdc38b91a0",
   "metadata": {},
   "outputs": [],
   "source": [
    "pd_results.keys()"
   ]
  },
  {
   "cell_type": "code",
   "execution_count": null,
   "id": "77a5ec67-71a7-4448-86f3-99e90ed9c343",
   "metadata": {},
   "outputs": [],
   "source": [
    "features = [0,1,2]\n",
    "PartialDependenceDisplay.from_estimator(clf, X, features)"
   ]
  },
  {
   "cell_type": "code",
   "execution_count": null,
   "id": "df72ee47-67cc-4ad5-a5b4-d9bcca2311c3",
   "metadata": {},
   "outputs": [],
   "source": [
    "plt.plot(pd_results['grid_values'][0], pd_results['average'][0])\n",
    "plt.show()"
   ]
  },
  {
   "cell_type": "code",
   "execution_count": null,
   "id": "6fe830aa-b2b2-4f3d-9af3-7e2b1f6a46b1",
   "metadata": {},
   "outputs": [],
   "source": [
    "import seaborn as sns"
   ]
  },
  {
   "cell_type": "code",
   "execution_count": null,
   "id": "c692f686-cfc3-46cc-a28e-743e54e890e6",
   "metadata": {},
   "outputs": [],
   "source": [
    "sns.histplot(df[num_features[feature]], kde=True)"
   ]
  },
  {
   "cell_type": "code",
   "execution_count": null,
   "id": "74cb4b46-6a77-4c6c-9845-9eeee0d32bb3",
   "metadata": {},
   "outputs": [],
   "source": [
    "pdp_df = pd.DataFrame({'grid_values': pd_results['grid_values'][0], 'average': pd_results['average'][0]})\n",
    "pdp_dict = pdp_df.to_dict(orient='records')\n",
    "x_start = min(df[num_features[feature]].min(), pdp_df['grid_values'].min())\n",
    "x_end = max(df[num_features[feature]].max(), pdp_df['grid_values'].max())"
   ]
  },
  {
   "cell_type": "code",
   "execution_count": null,
   "id": "c767a27c-88e1-4ce9-98df-ca9b26331041",
   "metadata": {},
   "outputs": [],
   "source": [
    "app = Dash(__name__)\n",
    "\n",
    "app.layout = html.Div([\n",
    "    LinearplotComponent(\n",
    "        id='linear',\n",
    "        data=pdp_dict,\n",
    "        x_axis='grid_values',\n",
    "        y_axis='average',\n",
    "        xStart=x_start,\n",
    "        xEnd=x_end,\n",
    "    ),\n",
    "    HistogramplotComponent(\n",
    "        id='hist',\n",
    "        data=df.to_dict(orient='records'),\n",
    "        value=num_features[feature],\n",
    "        xStart=x_start,\n",
    "        xEnd=x_end,\n",
    "    ),\n",
    "    html.Div(id='output')\n",
    "])\n",
    "\n",
    "clickedValue = \"\"\n",
    "@app.callback(\n",
    "    Output(\"output\", \"children\"), \n",
    "    Input(\"linear\", \"value\"))\n",
    "def showDataPoint(value):\n",
    "    global clickedValue\n",
    "    clickedValue = value\n",
    "    return value\n",
    "\n",
    "if __name__ == '__main__':\n",
    "    app.run(mode=\"jupyterlab\")"
   ]
  },
  {
   "cell_type": "code",
   "execution_count": null,
   "id": "5663c799-3500-4f6e-8597-356c33fe56fb",
   "metadata": {},
   "outputs": [],
   "source": [
    "clickedValue"
   ]
  },
  {
   "cell_type": "code",
   "execution_count": null,
   "id": "bba01305-258d-4ae5-9a93-46ed55d4dda2",
   "metadata": {},
   "outputs": [],
   "source": [
    "app = Dash(__name__)\n",
    "\n",
    "app.layout = html.Div([\n",
    "    LinearHistComponent(\n",
    "        id='linear-hist',\n",
    "        data=pdp_dict,\n",
    "        histData=df.to_dict(orient='records'),\n",
    "        x_axis='grid_values',\n",
    "        y_axis='average',\n",
    "        histValue=num_features[feature]\n",
    "    ),\n",
    "])\n",
    "\n",
    "if __name__ == '__main__':\n",
    "    app.run(mode=\"jupyterlab\")\n",
    "\n"
   ]
  },
  {
   "cell_type": "markdown",
   "id": "3a816309-6d00-4053-ae02-390c19557dac",
   "metadata": {},
   "source": [
    "# 3. Tentativa de Encapsulamento"
   ]
  },
  {
   "cell_type": "code",
   "execution_count": null,
   "id": "19d8d947-bf81-47ac-88ea-07d512551a62",
   "metadata": {},
   "outputs": [],
   "source": [
    "from my_dash_components.Encapsulation.Encapsulation import Window, ScatterplotGraph, RangeSliderWidget"
   ]
  },
  {
   "cell_type": "code",
   "execution_count": null,
   "id": "ed42afc3-40e5-4f3d-ac51-34cde09d6ab3",
   "metadata": {},
   "outputs": [],
   "source": [
    "def effectOnData(value):\n",
    "    low, high = value\n",
    "    mask = (iris['petalWidth'] > low) & (iris['petalWidth'] < high)\n",
    "    res = iris[mask].to_dict(orient='records')\n",
    "    return res\n",
    "\n",
    "app = Window(iris_array_of_dicts)\n",
    "app.add(ScatterplotGraph()).add(RangeSliderWidget(min=0, max=2.5, step=0.1, effectOnData=effectOnData))\n",
    "app.run()"
   ]
  }
 ],
 "metadata": {
  "kernelspec": {
   "display_name": "Python 3 (ipykernel)",
   "language": "python",
   "name": "python3"
  },
  "language_info": {
   "codemirror_mode": {
    "name": "ipython",
    "version": 3
   },
   "file_extension": ".py",
   "mimetype": "text/x-python",
   "name": "python",
   "nbconvert_exporter": "python",
   "pygments_lexer": "ipython3",
   "version": "3.10.12"
  }
 },
 "nbformat": 4,
 "nbformat_minor": 5
}
