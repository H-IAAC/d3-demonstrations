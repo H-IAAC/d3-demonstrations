{
 "cells": [
  {
   "cell_type": "code",
   "execution_count": null,
   "id": "e2e6d7dc-f565-4674-a796-0529f3d7aa89",
   "metadata": {},
   "outputs": [],
   "source": [
    "from dash_interface.my_dash_components import MyDashComponents\n",
    "from dash import dcc, html, Input, Output\n",
    "import pandas as pd\n",
    "from jupyter_dash import JupyterDash"
   ]
  },
  {
   "cell_type": "code",
   "execution_count": null,
   "id": "85b93210-4283-4b66-8772-e614c2062a28",
   "metadata": {},
   "outputs": [],
   "source": [
    "filename =  'web3/data.tsv'\n",
    "iris = pd.read_csv(filename,sep=\"\\t\")\n",
    "iris_array_of_dicts = iris.to_dict(orient='records')\n",
    "\n",
    "app = JupyterDash(__name__)\n",
    "\n",
    "app.layout = html.Div([\n",
    "    MyDashComponents(\n",
    "        id='input',\n",
    "        data=iris_array_of_dicts\n",
    "    ),\n",
    "    dcc.RangeSlider(\n",
    "        id='range-slider',\n",
    "        min=0, max=2.5, step=0.1,\n",
    "        marks={0: '0', 2.5: '2.5'},\n",
    "        value=[0.5, 2]\n",
    "    ),\n",
    "])\n",
    "\n",
    "@app.callback(\n",
    "    Output(\"input\", \"data\"), \n",
    "    Input(\"range-slider\", \"value\"))\n",
    "def update_bar_chart(value):\n",
    "    low, high = value\n",
    "    mask = (iris['petalWidth'] > low) & (iris['petalWidth'] < high)\n",
    "    res = iris[mask].to_dict(orient='records')\n",
    "    return res\n",
    "\n",
    "app.run_server(mode=\"inline\")\n"
   ]
  }
 ],
 "metadata": {
  "kernelspec": {
   "display_name": "Python 3 (ipykernel)",
   "language": "python",
   "name": "python3"
  },
  "language_info": {
   "codemirror_mode": {
    "name": "ipython",
    "version": 3
   },
   "file_extension": ".py",
   "mimetype": "text/x-python",
   "name": "python",
   "nbconvert_exporter": "python",
   "pygments_lexer": "ipython3",
   "version": "3.8.10"
  }
 },
 "nbformat": 4,
 "nbformat_minor": 5
}
